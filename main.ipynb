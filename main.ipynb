# Install and load the necessary libraries
if (!requireNamespace("readr", quietly = TRUE)) {
  install.packages("readr")
}

zip_file_path <- "census+income.zip"

extracted_dir <- "data/"

# Unzip the file
unzip(zip_file_path, exdir = extracted_dir)

# Read the adult.data file into a dataframe
library(readr)
adult_data_path <- file.path(extracted_dir, "adult.data")
adult_df <- read.table(adult_data_path, header = FALSE, sep = ",", quote = "\"")

# Display the first few rows of the dataframe
head(adult_df)
