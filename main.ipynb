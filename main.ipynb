{
 "cells": [
  {
   "cell_type": "code",
   "execution_count": 1,
   "id": "572e5841-c3b5-47aa-9048-3e560258b0d1",
   "metadata": {},
   "outputs": [
    {
     "data": {
      "text/html": [
       "<table class=\"dataframe\">\n",
       "<caption>A data.frame: 6 × 15</caption>\n",
       "<thead>\n",
       "\t<tr><th></th><th scope=col>V1</th><th scope=col>V2</th><th scope=col>V3</th><th scope=col>V4</th><th scope=col>V5</th><th scope=col>V6</th><th scope=col>V7</th><th scope=col>V8</th><th scope=col>V9</th><th scope=col>V10</th><th scope=col>V11</th><th scope=col>V12</th><th scope=col>V13</th><th scope=col>V14</th><th scope=col>V15</th></tr>\n",
       "\t<tr><th></th><th scope=col>&lt;int&gt;</th><th scope=col>&lt;chr&gt;</th><th scope=col>&lt;int&gt;</th><th scope=col>&lt;chr&gt;</th><th scope=col>&lt;int&gt;</th><th scope=col>&lt;chr&gt;</th><th scope=col>&lt;chr&gt;</th><th scope=col>&lt;chr&gt;</th><th scope=col>&lt;chr&gt;</th><th scope=col>&lt;chr&gt;</th><th scope=col>&lt;int&gt;</th><th scope=col>&lt;int&gt;</th><th scope=col>&lt;int&gt;</th><th scope=col>&lt;chr&gt;</th><th scope=col>&lt;chr&gt;</th></tr>\n",
       "</thead>\n",
       "<tbody>\n",
       "\t<tr><th scope=row>1</th><td>39</td><td><span style=white-space:pre-wrap> State-gov       </span></td><td> 77516</td><td> Bachelors</td><td>13</td><td><span style=white-space:pre-wrap> Never-married     </span></td><td><span style=white-space:pre-wrap> Adm-clerical     </span></td><td> Not-in-family</td><td> White</td><td><span style=white-space:pre-wrap> Male  </span></td><td>2174</td><td>0</td><td>40</td><td> United-States</td><td> &lt;=50K</td></tr>\n",
       "\t<tr><th scope=row>2</th><td>50</td><td> Self-emp-not-inc</td><td> 83311</td><td> Bachelors</td><td>13</td><td> Married-civ-spouse</td><td><span style=white-space:pre-wrap> Exec-managerial  </span></td><td><span style=white-space:pre-wrap> Husband      </span></td><td> White</td><td><span style=white-space:pre-wrap> Male  </span></td><td><span style=white-space:pre-wrap>   0</span></td><td>0</td><td>13</td><td> United-States</td><td> &lt;=50K</td></tr>\n",
       "\t<tr><th scope=row>3</th><td>38</td><td><span style=white-space:pre-wrap> Private         </span></td><td>215646</td><td><span style=white-space:pre-wrap> HS-grad  </span></td><td> 9</td><td><span style=white-space:pre-wrap> Divorced          </span></td><td> Handlers-cleaners</td><td> Not-in-family</td><td> White</td><td><span style=white-space:pre-wrap> Male  </span></td><td><span style=white-space:pre-wrap>   0</span></td><td>0</td><td>40</td><td> United-States</td><td> &lt;=50K</td></tr>\n",
       "\t<tr><th scope=row>4</th><td>53</td><td><span style=white-space:pre-wrap> Private         </span></td><td>234721</td><td><span style=white-space:pre-wrap> 11th     </span></td><td> 7</td><td> Married-civ-spouse</td><td> Handlers-cleaners</td><td><span style=white-space:pre-wrap> Husband      </span></td><td> Black</td><td><span style=white-space:pre-wrap> Male  </span></td><td><span style=white-space:pre-wrap>   0</span></td><td>0</td><td>40</td><td> United-States</td><td> &lt;=50K</td></tr>\n",
       "\t<tr><th scope=row>5</th><td>28</td><td><span style=white-space:pre-wrap> Private         </span></td><td>338409</td><td> Bachelors</td><td>13</td><td> Married-civ-spouse</td><td><span style=white-space:pre-wrap> Prof-specialty   </span></td><td><span style=white-space:pre-wrap> Wife         </span></td><td> Black</td><td> Female</td><td><span style=white-space:pre-wrap>   0</span></td><td>0</td><td>40</td><td><span style=white-space:pre-wrap> Cuba         </span></td><td> &lt;=50K</td></tr>\n",
       "\t<tr><th scope=row>6</th><td>37</td><td><span style=white-space:pre-wrap> Private         </span></td><td>284582</td><td><span style=white-space:pre-wrap> Masters  </span></td><td>14</td><td> Married-civ-spouse</td><td><span style=white-space:pre-wrap> Exec-managerial  </span></td><td><span style=white-space:pre-wrap> Wife         </span></td><td> White</td><td> Female</td><td><span style=white-space:pre-wrap>   0</span></td><td>0</td><td>40</td><td> United-States</td><td> &lt;=50K</td></tr>\n",
       "</tbody>\n",
       "</table>\n"
      ],
      "text/latex": [
       "A data.frame: 6 × 15\n",
       "\\begin{tabular}{r|lllllllllllllll}\n",
       "  & V1 & V2 & V3 & V4 & V5 & V6 & V7 & V8 & V9 & V10 & V11 & V12 & V13 & V14 & V15\\\\\n",
       "  & <int> & <chr> & <int> & <chr> & <int> & <chr> & <chr> & <chr> & <chr> & <chr> & <int> & <int> & <int> & <chr> & <chr>\\\\\n",
       "\\hline\n",
       "\t1 & 39 &  State-gov        &  77516 &  Bachelors & 13 &  Never-married      &  Adm-clerical      &  Not-in-family &  White &  Male   & 2174 & 0 & 40 &  United-States &  <=50K\\\\\n",
       "\t2 & 50 &  Self-emp-not-inc &  83311 &  Bachelors & 13 &  Married-civ-spouse &  Exec-managerial   &  Husband       &  White &  Male   &    0 & 0 & 13 &  United-States &  <=50K\\\\\n",
       "\t3 & 38 &  Private          & 215646 &  HS-grad   &  9 &  Divorced           &  Handlers-cleaners &  Not-in-family &  White &  Male   &    0 & 0 & 40 &  United-States &  <=50K\\\\\n",
       "\t4 & 53 &  Private          & 234721 &  11th      &  7 &  Married-civ-spouse &  Handlers-cleaners &  Husband       &  Black &  Male   &    0 & 0 & 40 &  United-States &  <=50K\\\\\n",
       "\t5 & 28 &  Private          & 338409 &  Bachelors & 13 &  Married-civ-spouse &  Prof-specialty    &  Wife          &  Black &  Female &    0 & 0 & 40 &  Cuba          &  <=50K\\\\\n",
       "\t6 & 37 &  Private          & 284582 &  Masters   & 14 &  Married-civ-spouse &  Exec-managerial   &  Wife          &  White &  Female &    0 & 0 & 40 &  United-States &  <=50K\\\\\n",
       "\\end{tabular}\n"
      ],
      "text/markdown": [
       "\n",
       "A data.frame: 6 × 15\n",
       "\n",
       "| <!--/--> | V1 &lt;int&gt; | V2 &lt;chr&gt; | V3 &lt;int&gt; | V4 &lt;chr&gt; | V5 &lt;int&gt; | V6 &lt;chr&gt; | V7 &lt;chr&gt; | V8 &lt;chr&gt; | V9 &lt;chr&gt; | V10 &lt;chr&gt; | V11 &lt;int&gt; | V12 &lt;int&gt; | V13 &lt;int&gt; | V14 &lt;chr&gt; | V15 &lt;chr&gt; |\n",
       "|---|---|---|---|---|---|---|---|---|---|---|---|---|---|---|---|\n",
       "| 1 | 39 |  State-gov        |  77516 |  Bachelors | 13 |  Never-married      |  Adm-clerical      |  Not-in-family |  White |  Male   | 2174 | 0 | 40 |  United-States |  &lt;=50K |\n",
       "| 2 | 50 |  Self-emp-not-inc |  83311 |  Bachelors | 13 |  Married-civ-spouse |  Exec-managerial   |  Husband       |  White |  Male   |    0 | 0 | 13 |  United-States |  &lt;=50K |\n",
       "| 3 | 38 |  Private          | 215646 |  HS-grad   |  9 |  Divorced           |  Handlers-cleaners |  Not-in-family |  White |  Male   |    0 | 0 | 40 |  United-States |  &lt;=50K |\n",
       "| 4 | 53 |  Private          | 234721 |  11th      |  7 |  Married-civ-spouse |  Handlers-cleaners |  Husband       |  Black |  Male   |    0 | 0 | 40 |  United-States |  &lt;=50K |\n",
       "| 5 | 28 |  Private          | 338409 |  Bachelors | 13 |  Married-civ-spouse |  Prof-specialty    |  Wife          |  Black |  Female |    0 | 0 | 40 |  Cuba          |  &lt;=50K |\n",
       "| 6 | 37 |  Private          | 284582 |  Masters   | 14 |  Married-civ-spouse |  Exec-managerial   |  Wife          |  White |  Female |    0 | 0 | 40 |  United-States |  &lt;=50K |\n",
       "\n"
      ],
      "text/plain": [
       "  V1 V2                V3     V4         V5 V6                 \n",
       "1 39  State-gov         77516  Bachelors 13  Never-married     \n",
       "2 50  Self-emp-not-inc  83311  Bachelors 13  Married-civ-spouse\n",
       "3 38  Private          215646  HS-grad    9  Divorced          \n",
       "4 53  Private          234721  11th       7  Married-civ-spouse\n",
       "5 28  Private          338409  Bachelors 13  Married-civ-spouse\n",
       "6 37  Private          284582  Masters   14  Married-civ-spouse\n",
       "  V7                 V8             V9     V10     V11  V12 V13 V14           \n",
       "1  Adm-clerical       Not-in-family  White  Male   2174 0   40   United-States\n",
       "2  Exec-managerial    Husband        White  Male      0 0   13   United-States\n",
       "3  Handlers-cleaners  Not-in-family  White  Male      0 0   40   United-States\n",
       "4  Handlers-cleaners  Husband        Black  Male      0 0   40   United-States\n",
       "5  Prof-specialty     Wife           Black  Female    0 0   40   Cuba         \n",
       "6  Exec-managerial    Wife           White  Female    0 0   40   United-States\n",
       "  V15   \n",
       "1  <=50K\n",
       "2  <=50K\n",
       "3  <=50K\n",
       "4  <=50K\n",
       "5  <=50K\n",
       "6  <=50K"
      ]
     },
     "metadata": {},
     "output_type": "display_data"
    }
   ],
   "source": [
    "# Install and load the necessary libraries\n",
    "if (!requireNamespace(\"readr\", quietly = TRUE)) {\n",
    "  install.packages(\"readr\")\n",
    "}\n",
    "\n",
    "# Replace 'path/to/census+income.zip' with the actual path to your local zip file\n",
    "zip_file_path <- \"census+income.zip\"\n",
    "\n",
    "# Replace 'path/to/extracted/files' with the desired directory to extract files\n",
    "extracted_dir <- \"data/\"\n",
    "\n",
    "# Unzip the file\n",
    "unzip(zip_file_path, exdir = extracted_dir)\n",
    "\n",
    "# Read the adult.data file into a dataframe\n",
    "library(readr)\n",
    "adult_data_path <- file.path(extracted_dir, \"adult.data\")\n",
    "adult_df <- read.table(adult_data_path, header = FALSE, sep = \",\", quote = \"\\\"\")\n",
    "\n",
    "# Display the first few rows of the dataframe\n",
    "head(adult_df)\n"
   ]
  },
  {
   "cell_type": "code",
   "execution_count": null,
   "id": "39b77748-1946-4c21-a26f-8da82d15da55",
   "metadata": {},
   "outputs": [],
   "source": []
  }
 ],
 "metadata": {
  "kernelspec": {
   "display_name": "R",
   "language": "R",
   "name": "ir"
  },
  "language_info": {
   "codemirror_mode": "r",
   "file_extension": ".r",
   "mimetype": "text/x-r-source",
   "name": "R",
   "pygments_lexer": "r",
   "version": "4.3.1"
  }
 },
 "nbformat": 4,
 "nbformat_minor": 5
}
